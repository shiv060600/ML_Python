{
 "cells": [
  {
   "cell_type": "markdown",
   "id": "43dc1ca6",
   "metadata": {},
   "source": [
    "<h1> Book Implementation of SVM using SKlearn </h1>"
   ]
  },
  {
   "cell_type": "markdown",
   "id": "a23c6901",
   "metadata": {},
   "source": [
    "<h3>First load and standardize Data</h3>"
   ]
  },
  {
   "cell_type": "code",
   "execution_count": null,
   "id": "2981acd7",
   "metadata": {},
   "outputs": [
    {
     "name": "stdout",
     "output_type": "stream",
     "text": [
      "['Setosa' 'Versicolor' 'Virginica']\n",
      "[0 0 0 0 0 0 0 0 0 0 0 0 0 0 0 0 0 0 0 0 0 0 0 0 0 0 0 0 0 0 0 0 0 0 0 0 0\n",
      " 0 0 0 0 0 0 0 0 0 0 0 0 0 1 1 1 1 1 1 1 1 1 1 1 1 1 1 1 1 1 1 1 1 1 1 1 1\n",
      " 1 1 1 1 1 1 1 1 1 1 1 1 1 1 1 1 1 1 1 1 1 1 1 1 1 1 2 2 2 2 2 2 2 2 2 2 2\n",
      " 2 2 2 2 2 2 2 2 2 2 2 2 2 2 2 2 2 2 2 2 2 2 2 2 2 2 2 2 2 2 2 2 2 2 2 2 2\n",
      " 2 2]\n"
     ]
    },
    {
     "data": {
      "text/plain": [
       "3724"
      ]
     },
     "execution_count": 22,
     "metadata": {},
     "output_type": "execute_result"
    }
   ],
   "source": [
    "from sklearn.model_selection import train_test_split\n",
    "from sklearn.preprocessing import StandardScaler\n",
    "import numpy as np\n",
    "import pandas as pd\n",
    "import gc\n",
    "\n",
    "iris_data = pd.read_csv(\"/Users/shivvinnybhutani/LocalShiv/Projects/ML_Python/iris_data.csv\",header = 0)\n",
    "y = np.array(iris_data.values[:,4])\n",
    "X = np.array(iris_data.values[:,[0,1,2,3]])\n",
    "scaler = StandardScaler()\n",
    "X_std = scaler.fit_transform(X)\n",
    "\"\"\"\n",
    "class_mapping = {'Setosa' : 0 , 'Versicolor' : 1 , 'Virginica' : 2}\n",
    "y_numeric = np.array([class_mapping[r] for r in y])\n",
    "slow\n",
    "\"\"\"\n",
    "class_names , y_numeric = np.unique(y,return_inverse=True)\n",
    "print(class_names)\n",
    "print(y_numeric)\n",
    "y = y_numeric\n"
   ]
  },
  {
   "cell_type": "code",
   "execution_count": null,
   "id": "0f171377",
   "metadata": {},
   "outputs": [],
   "source": [
    "from sklearn.svm import SVC\n",
    "\n",
    "svm = SVC(kernel='linear', C = 1 ,random_state = 1)"
   ]
  }
 ],
 "metadata": {
  "kernelspec": {
   "display_name": "Python 3",
   "language": "python",
   "name": "python3"
  },
  "language_info": {
   "codemirror_mode": {
    "name": "ipython",
    "version": 3
   },
   "file_extension": ".py",
   "mimetype": "text/x-python",
   "name": "python",
   "nbconvert_exporter": "python",
   "pygments_lexer": "ipython3",
   "version": "3.13.3"
  }
 },
 "nbformat": 4,
 "nbformat_minor": 5
}
