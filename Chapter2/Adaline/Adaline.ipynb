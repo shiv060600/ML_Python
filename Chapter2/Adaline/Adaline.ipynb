{
 "cells": [
  {
   "cell_type": "markdown",
   "id": "e6e5f418",
   "metadata": {},
   "source": [
    "<h1>Adaline Implementation With Gradient Descent in Python</h1>"
   ]
  },
  {
   "cell_type": "code",
   "execution_count": null,
   "id": "eebaf64d",
   "metadata": {},
   "outputs": [],
   "source": [
    "import numpy as np\n",
    "class AdalineGD:\n",
    "    \"\"\"\n",
    "    ADApdtive LInear NEuron classifier\n",
    "\n",
    "    eta : float\n",
    "        Learning rate 0.0 <= eta <= 1.0\n",
    "    epochs : int\n",
    "        Number of Iterations \n",
    "    random_state : int \n",
    "        Random State\n",
    "    \"\"\"\n",
    "    def __init__(self,eta,epochs,random_state):\n",
    "        self.eta = eta\n",
    "        self.epochs = epochs\n",
    "        self.random_state = random_state\n",
    "    \n",
    "    def fit(self,X,y):\n",
    "        \"\"\"\n",
    "        X : Matrix-Like (also Array) Shape: [n_rows,n_features] == [n,m]\n",
    "        y : Array-Like (also Matrix) Shape: [n_rows,1] == [n,1]\n",
    "\n",
    "        returns AdalineGD Object\n",
    "        \"\"\"\n",
    "        #rgen random state controllers\n",
    "        rgen = np.random.RandomState(self.random_state)\n",
    "\n",
    "        #start w at a small vector of guesses the same size of columns in X\n",
    "        self.w = rgen.normal(loc = 0.0,scale= 0.01,size=X.shape[1])\n",
    "        self.b = float(0.0)\n",
    "        self.losses = []\n",
    "        for i in range(self.epochs):\n",
    "            net_input = self.net_input_(X)\n",
    "            output = self.activation(net_input)\n",
    "            errors = y - output\n",
    "            \"\"\"\n",
    "            X.T.dot(errors) explanation\n",
    "\n",
    "            dl/dw = (-2 * sum((y - prediction)*x))/n errors is y - prediction \n",
    "            dl/dw = (-2 * sum(errors))/n\n",
    "\n",
    "            n is n rows in dataframe\n",
    "\n",
    "            we must transpose X beacuse errors is in format (n,1)\n",
    "            X is format (n,m)\n",
    "\n",
    "            cannot multiply (n,m) * (n,1) only solution is to X.T\n",
    "            \n",
    "            \"\"\"\n",
    "            self.w += self.eta * 2.0 * X.T.dot(errors) / X.shape[0]\n",
    "            self.b += (self.eta * 2.0 * errors / len(y))\n",
    "            loss = (errors*errors).mean()\n",
    "            self.losses.append(loss)\n",
    "        return self\n",
    "    def net_input_(self,X):\n",
    "        \"\"\"\n",
    "        X: ArrayLike MatrixLike : [n,m]\n",
    "        determine the output of z function\n",
    "        \"\"\"\n",
    "        return np.dot(X,self.w) + self.b\n",
    "    \n",
    "    def activation(self,X):\n",
    "        return X\n",
    "    \n",
    "    def predict(self,X):\n",
    "        return np.where(self.activation(self.net_input_(X))>= 0.5,1,0)"
   ]
  },
  {
   "cell_type": "code",
   "execution_count": null,
   "id": "08e60755",
   "metadata": {},
   "outputs": [],
   "source": []
  }
 ],
 "metadata": {
  "kernelspec": {
   "display_name": "Python 3",
   "language": "python",
   "name": "python3"
  },
  "language_info": {
   "codemirror_mode": {
    "name": "ipython",
    "version": 3
   },
   "file_extension": ".py",
   "mimetype": "text/x-python",
   "name": "python",
   "nbconvert_exporter": "python",
   "pygments_lexer": "ipython3",
   "version": "3.13.3"
  }
 },
 "nbformat": 4,
 "nbformat_minor": 5
}
